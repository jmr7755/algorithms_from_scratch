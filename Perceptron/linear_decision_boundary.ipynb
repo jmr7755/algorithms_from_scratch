{
 "cells": [
  {
   "cell_type": "markdown",
   "metadata": {},
   "source": [
    "## Single Perceptron from Scratch in Python"
   ]
  },
  {
   "cell_type": "markdown",
   "metadata": {},
   "source": [
    "Note: The main of the the project is build a model with linear boundary decesion with the help of single perceptron from scratch"
   ]
  },
  {
   "cell_type": "markdown",
   "metadata": {},
   "source": [
    "**Problem** : An online rental video company is interested in creating a model to make movie\n",
    "recommendations to one of its customers, Ms. X. As a consultant to this com-\n",
    "pany, you are provided with the history of the movies that she accepted or\n",
    "rejected to watch. She makes her selections solely based on the movie's level of\n",
    "violence and critic ratings."
   ]
  },
  {
   "cell_type": "markdown",
   "metadata": {},
   "source": [
    "**Data** : The data is in movieData.csv"
   ]
  },
  {
   "cell_type": "markdown",
   "metadata": {},
   "source": [
    "__Solution__ : Train a perceptron that will create a linear boundary decision that will\n",
    "help the company to make future recommendations to Ms. X."
   ]
  },
  {
   "cell_type": "code",
   "execution_count": 2,
   "metadata": {},
   "outputs": [],
   "source": [
    "#libraries requried\n",
    "\n",
    "import numpy as np\n",
    "import pandas as pd\n",
    "import matplotlib.pyplot as plt"
   ]
  },
  {
   "cell_type": "code",
   "execution_count": 3,
   "metadata": {},
   "outputs": [
    {
     "data": {
      "text/html": [
       "<div>\n",
       "<style scoped>\n",
       "    .dataframe tbody tr th:only-of-type {\n",
       "        vertical-align: middle;\n",
       "    }\n",
       "\n",
       "    .dataframe tbody tr th {\n",
       "        vertical-align: top;\n",
       "    }\n",
       "\n",
       "    .dataframe thead th {\n",
       "        text-align: right;\n",
       "    }\n",
       "</style>\n",
       "<table border=\"1\" class=\"dataframe\">\n",
       "  <thead>\n",
       "    <tr style=\"text-align: right;\">\n",
       "      <th></th>\n",
       "      <th>LevelOfViolence</th>\n",
       "      <th>CriticsRating</th>\n",
       "      <th>Watched</th>\n",
       "    </tr>\n",
       "  </thead>\n",
       "  <tbody>\n",
       "    <tr>\n",
       "      <th>0</th>\n",
       "      <td>1</td>\n",
       "      <td>1.2</td>\n",
       "      <td>-1</td>\n",
       "    </tr>\n",
       "    <tr>\n",
       "      <th>1</th>\n",
       "      <td>1</td>\n",
       "      <td>3.5</td>\n",
       "      <td>1</td>\n",
       "    </tr>\n",
       "    <tr>\n",
       "      <th>2</th>\n",
       "      <td>1</td>\n",
       "      <td>4.2</td>\n",
       "      <td>1</td>\n",
       "    </tr>\n",
       "    <tr>\n",
       "      <th>3</th>\n",
       "      <td>2</td>\n",
       "      <td>3.9</td>\n",
       "      <td>1</td>\n",
       "    </tr>\n",
       "    <tr>\n",
       "      <th>4</th>\n",
       "      <td>2</td>\n",
       "      <td>2.8</td>\n",
       "      <td>-1</td>\n",
       "    </tr>\n",
       "  </tbody>\n",
       "</table>\n",
       "</div>"
      ],
      "text/plain": [
       "   LevelOfViolence  CriticsRating  Watched\n",
       "0                1            1.2       -1\n",
       "1                1            3.5        1\n",
       "2                1            4.2        1\n",
       "3                2            3.9        1\n",
       "4                2            2.8       -1"
      ]
     },
     "execution_count": 3,
     "metadata": {},
     "output_type": "execute_result"
    }
   ],
   "source": [
    "# Reading the data\n",
    "\n",
    "movie =  pd.read_csv(\"movieData.csv\")\n",
    "movie.head()"
   ]
  },
  {
   "cell_type": "code",
   "execution_count": 5,
   "metadata": {},
   "outputs": [
    {
     "data": {
      "image/png": "[encoded data removed]",
      "text/plain": [
       "<Figure size 576x576 with 1 Axes>"
      ]
     },
     "metadata": {
      "needs_background": "light"
     },
     "output_type": "display_data"
    }
   ],
   "source": [
    "# Data visualization using matplotlib\n",
    "\n",
    "plt.figure(figsize=(8,8))\n",
    "plt.scatter(movie[movie.Watched==1].LevelOfViolence,movie[movie.Watched==1].CriticsRating, marker='o', label='watched = +1')\n",
    "plt.scatter(movie[movie.Watched==-1].LevelOfViolence,movie[movie.Watched==-1].CriticsRating, marker='x', label='watched = -1')\n",
    "plt.xlabel('level of violence',fontsize=14)\n",
    "plt.ylabel('critics rating',fontsize=14)   \n",
    "plt.legend(loc='center left',bbox_to_anchor=(1,0.5), fontsize = 12)\n",
    "plt.title('Perceptron')\n",
    "plt.show()"
   ]
  },
  {
   "cell_type": "markdown",
   "metadata": {},
   "source": [
    "We can observe that we can estimate a linear decision boundary for the above data"
   ]
  },
  {
   "cell_type": "code",
   "execution_count": 4,
   "metadata": {},
   "outputs": [],
   "source": [
    "# independent variables as level of Violence and Critics Rating\n",
    "X = movie.iloc[:,0:2].values\n",
    "\n",
    "# dependent variables as Watched\n",
    "Y = movie.iloc[:,2].values"
   ]
  },
  {
   "cell_type": "code",
   "execution_count": 6,
   "metadata": {},
   "outputs": [
    {
     "data": {
      "text/plain": [
       "array([[1. , 1. , 1.2],\n",
       "       [1. , 1. , 3.5],\n",
       "       [1. , 1. , 4.2],\n",
       "       [1. , 2. , 3.9],\n",
       "       [1. , 2. , 2.8],\n",
       "       [1. , 3. , 3. ],\n",
       "       [1. , 5. , 4.5],\n",
       "       [1. , 4. , 1.8],\n",
       "       [1. , 1. , 2.1],\n",
       "       [1. , 3. , 4.8],\n",
       "       [1. , 5. , 4.9],\n",
       "       [1. , 3. , 1.5],\n",
       "       [1. , 3. , 2.6]])"
      ]
     },
     "execution_count": 6,
     "metadata": {},
     "output_type": "execute_result"
    }
   ],
   "source": [
    "# Adding bias '1' to the input features\n",
    "\n",
    "X = np.column_stack((np.ones(len(X)), X)) \n",
    "X"
   ]
  },
  {
   "cell_type": "code",
   "execution_count": 8,
   "metadata": {},
   "outputs": [
    {
     "data": {
      "text/plain": [
       "array([-1,  1,  1,  1, -1, -1, -1, -1, -1,  1,  1, -1, -1], dtype=int64)"
      ]
     },
     "execution_count": 8,
     "metadata": {},
     "output_type": "execute_result"
    }
   ],
   "source": [
    "Y #output variable"
   ]
  },
  {
   "cell_type": "code",
   "execution_count": 9,
   "metadata": {},
   "outputs": [
    {
     "name": "stdout",
     "output_type": "stream",
     "text": [
      "The algorithm converge after 39 iterations.\n"
     ]
    }
   ],
   "source": [
    "# Initializing parameters for the Perceptron\n",
    "\n",
    "w = np.zeros(len(X[0]))       # weights\n",
    "n = 0 \n",
    "t = 60                        # number of iterations\n",
    "z = 0                         # treshold\n",
    "yhat_vec = np.ones(len(Y))\n",
    "errors = np.ones(len(Y))       # vector for errors (actual - predictions)\n",
    " \n",
    "while errors.any() != 0:\n",
    "    for i in range(len(X)):\n",
    "        \n",
    "        # summation step\n",
    "        f = np.dot(X[i], w) \n",
    "        \n",
    "        # activation function\n",
    "        if f > z:                               \n",
    "            yhat = 1                               \n",
    "        else:                                   \n",
    "            yhat = -1\n",
    "            \n",
    "        yhat_vec[i] = yhat \n",
    "\n",
    "        # Updating the weight\n",
    "        if Y[i] != yhat:\n",
    "            w = w + Y[i] * X[i]\n",
    "        else:\n",
    "            w = w\n",
    "    n += 1\n",
    "    \n",
    "    # computing the sum-of-squared errors\n",
    "    for i in range(len(Y)):     \n",
    "        errors[i] = (Y[i]-yhat_vec[i])**2\n",
    "    \n",
    "print(f\"The algorithm converge after {n} iterations.\")    "
   ]
  },
  {
   "cell_type": "code",
   "execution_count": 10,
   "metadata": {},
   "outputs": [
    {
     "data": {
      "text/plain": [
       "array([-28. ,  -9. ,  15.2])"
      ]
     },
     "execution_count": 10,
     "metadata": {},
     "output_type": "execute_result"
    }
   ],
   "source": [
    "w #weights"
   ]
  },
  {
   "cell_type": "markdown",
   "metadata": {},
   "source": [
    "Here line equation **a**x + **b**y + **c** = 0, slope = -a/c and intercept is -b/c, where a = w1, b = w0, c =w2"
   ]
  },
  {
   "cell_type": "code",
   "execution_count": 11,
   "metadata": {},
   "outputs": [
    {
     "data": {
      "image/png": "[encoded data removed]",
      "text/plain": [
       "<Figure size 576x576 with 1 Axes>"
      ]
     },
     "metadata": {
      "needs_background": "light"
     },
     "output_type": "display_data"
    }
   ],
   "source": [
    "slope = -w[1]/w[2]\n",
    "intercept = -w[0]/w[2]\n",
    "y = ( slope * X ) + intercept\n",
    "plt.figure(figsize=(8,8))\n",
    "plt.plot(X,y,'k-' )\n",
    "plt.scatter(movie[movie.Watched==1].LevelOfViolence,movie[movie.Watched==1].CriticsRating, marker='o', label='watched = +1')\n",
    "plt.scatter(movie[movie.Watched==-1].LevelOfViolence,movie[movie.Watched==-1].CriticsRating, marker='x', label='watched = -1')\n",
    "plt.xlabel('level of violence',fontsize=14)\n",
    "plt.ylabel('critics rating',fontsize=14)   \n",
    "plt.legend(loc='center left',bbox_to_anchor=(1,0.5), fontsize = 12)\n",
    "plt.title('Perceptron')\n",
    "plt.show()"
   ]
  }
 ],
 "metadata": {
  "kernelspec": {
   "display_name": "Python 3",
   "language": "python",
   "name": "python3"
  },
  "language_info": {
   "codemirror_mode": {
    "name": "ipython",
    "version": 3
   },
   "file_extension": ".py",
   "mimetype": "text/x-python",
   "name": "python",
   "nbconvert_exporter": "python",
   "pygments_lexer": "ipython3",
   "version": "3.7.7"
  }
 },
 "nbformat": 4,
 "nbformat_minor": 4
}
