{
 "cells": [
  {
   "cell_type": "markdown",
   "metadata": {},
   "source": [
    "***Note***: *this report is accompanied by \"rating.csv\" file, which should be placed in same directory as this file for reproducibility.*<br>\n",
    "***Initial Actions***:*To create a reproducible document containing our analysis for the  quarterback ratings for the 2008 NFL season (The Sports Network) dataset.*"
   ]
  },
  {
   "cell_type": "markdown",
   "metadata": {},
   "source": [
    "## Linear Regression from scratch in  R"
   ]
  },
  {
   "cell_type": "markdown",
   "metadata": {},
   "source": [
    "### <span style=\"color: navy \">Objective:To create a Least Square model to relate the dependent variable __quarterback rating__ to the __percentage of completions__ (Pct Comp).</span>"
   ]
  },
  {
   "cell_type": "markdown",
   "metadata": {},
   "source": [
    "   _**Assumption**: we are considering only pct Comp as independent variable only for experimental purpose, there is no real relation between dependent and independent variable_"
   ]
  },
  {
   "cell_type": "code",
   "execution_count": 1,
   "metadata": {},
   "outputs": [
    {
     "data": {
      "text/html": [
       "<table>\n",
       "<thead><tr><th scope=col>First</th><th scope=col>Last</th><th scope=col>Team</th><th scope=col>Att</th><th scope=col>Comp</th><th scope=col>Pct.Comp</th><th scope=col>Yds</th><th scope=col>Yds.per.Att</th><th scope=col>TD</th><th scope=col>Pct.TD</th><th scope=col>Long</th><th scope=col>Int</th><th scope=col>Pct.Int</th><th scope=col>Rating.Pts</th></tr></thead>\n",
       "<tbody>\n",
       "\t<tr><td>Philip    </td><td>Rivers    </td><td>SD        </td><td>478       </td><td>312       </td><td>65.3      </td><td>4009      </td><td>8.39      </td><td>34        </td><td>7.1       </td><td>67        </td><td>11        </td><td>2.3       </td><td>105.5     </td></tr>\n",
       "\t<tr><td>Chad      </td><td>Pennington</td><td>MIA       </td><td>476       </td><td>321       </td><td>67.4      </td><td>3653      </td><td>7.67      </td><td>19        </td><td>4.0       </td><td>80        </td><td> 7        </td><td>1.5       </td><td> 97.4     </td></tr>\n",
       "\t<tr><td>Kurt      </td><td>Warner    </td><td>ARI       </td><td>598       </td><td>401       </td><td>67.1      </td><td>4583      </td><td>7.66      </td><td>30        </td><td>5.0       </td><td>79        </td><td>14        </td><td>2.3       </td><td> 96.9     </td></tr>\n",
       "\t<tr><td>Drew      </td><td>Brees     </td><td>NO        </td><td>635       </td><td>413       </td><td>65.0      </td><td>5069      </td><td>7.98      </td><td>34        </td><td>5.4       </td><td>84        </td><td>17        </td><td>2.7       </td><td> 96.2     </td></tr>\n",
       "\t<tr><td>Peyton    </td><td>Manning   </td><td>IND       </td><td>555       </td><td>371       </td><td>66.8      </td><td>4002      </td><td>7.21      </td><td>27        </td><td>4.9       </td><td>75        </td><td>12        </td><td>2.2       </td><td> 95.0     </td></tr>\n",
       "\t<tr><td>Aaron     </td><td>Rodgers   </td><td>GB        </td><td>536       </td><td>341       </td><td>63.6      </td><td>4038      </td><td>7.53      </td><td>28        </td><td>5.2       </td><td>71        </td><td>13        </td><td>2.4       </td><td> 93.8     </td></tr>\n",
       "</tbody>\n",
       "</table>\n"
      ],
      "text/latex": [
       "\\begin{tabular}{r|llllllllllllll}\n",
       " First & Last & Team & Att & Comp & Pct.Comp & Yds & Yds.per.Att & TD & Pct.TD & Long & Int & Pct.Int & Rating.Pts\\\\\n",
       "\\hline\n",
       "\t Philip     & Rivers     & SD         & 478        & 312        & 65.3       & 4009       & 8.39       & 34         & 7.1        & 67         & 11         & 2.3        & 105.5     \\\\\n",
       "\t Chad       & Pennington & MIA        & 476        & 321        & 67.4       & 3653       & 7.67       & 19         & 4.0        & 80         &  7         & 1.5        &  97.4     \\\\\n",
       "\t Kurt       & Warner     & ARI        & 598        & 401        & 67.1       & 4583       & 7.66       & 30         & 5.0        & 79         & 14         & 2.3        &  96.9     \\\\\n",
       "\t Drew       & Brees      & NO         & 635        & 413        & 65.0       & 5069       & 7.98       & 34         & 5.4        & 84         & 17         & 2.7        &  96.2     \\\\\n",
       "\t Peyton     & Manning    & IND        & 555        & 371        & 66.8       & 4002       & 7.21       & 27         & 4.9        & 75         & 12         & 2.2        &  95.0     \\\\\n",
       "\t Aaron      & Rodgers    & GB         & 536        & 341        & 63.6       & 4038       & 7.53       & 28         & 5.2        & 71         & 13         & 2.4        &  93.8     \\\\\n",
       "\\end{tabular}\n"
      ],
      "text/markdown": [
       "\n",
       "| First | Last | Team | Att | Comp | Pct.Comp | Yds | Yds.per.Att | TD | Pct.TD | Long | Int | Pct.Int | Rating.Pts |\n",
       "|---|---|---|---|---|---|---|---|---|---|---|---|---|---|\n",
       "| Philip     | Rivers     | SD         | 478        | 312        | 65.3       | 4009       | 8.39       | 34         | 7.1        | 67         | 11         | 2.3        | 105.5      |\n",
       "| Chad       | Pennington | MIA        | 476        | 321        | 67.4       | 3653       | 7.67       | 19         | 4.0        | 80         |  7         | 1.5        |  97.4      |\n",
       "| Kurt       | Warner     | ARI        | 598        | 401        | 67.1       | 4583       | 7.66       | 30         | 5.0        | 79         | 14         | 2.3        |  96.9      |\n",
       "| Drew       | Brees      | NO         | 635        | 413        | 65.0       | 5069       | 7.98       | 34         | 5.4        | 84         | 17         | 2.7        |  96.2      |\n",
       "| Peyton     | Manning    | IND        | 555        | 371        | 66.8       | 4002       | 7.21       | 27         | 4.9        | 75         | 12         | 2.2        |  95.0      |\n",
       "| Aaron      | Rodgers    | GB         | 536        | 341        | 63.6       | 4038       | 7.53       | 28         | 5.2        | 71         | 13         | 2.4        |  93.8      |\n",
       "\n"
      ],
      "text/plain": [
       "  First  Last       Team Att Comp Pct.Comp Yds  Yds.per.Att TD Pct.TD Long Int\n",
       "1 Philip Rivers     SD   478 312  65.3     4009 8.39        34 7.1    67   11 \n",
       "2 Chad   Pennington MIA  476 321  67.4     3653 7.67        19 4.0    80    7 \n",
       "3 Kurt   Warner     ARI  598 401  67.1     4583 7.66        30 5.0    79   14 \n",
       "4 Drew   Brees      NO   635 413  65.0     5069 7.98        34 5.4    84   17 \n",
       "5 Peyton Manning    IND  555 371  66.8     4002 7.21        27 4.9    75   12 \n",
       "6 Aaron  Rodgers    GB   536 341  63.6     4038 7.53        28 5.2    71   13 \n",
       "  Pct.Int Rating.Pts\n",
       "1 2.3     105.5     \n",
       "2 1.5      97.4     \n",
       "3 2.3      96.9     \n",
       "4 2.7      96.2     \n",
       "5 2.2      95.0     \n",
       "6 2.4      93.8     "
      ]
     },
     "metadata": {},
     "output_type": "display_data"
    }
   ],
   "source": [
    "library(pracma)\n",
    "d <- read.csv(\"data/rating.csv\") #to read data form csv file\n",
    "head(d)"
   ]
  },
  {
   "cell_type": "markdown",
   "metadata": {},
   "source": [
    "General Linear Equation is:\n",
    "$y = \\beta_0 +\\beta_1x_1$\n",
    "\n",
    "Linear Equation to predict Rating.Pts is:\n",
    "$Rating.Pts = \\beta_0 +\\beta_1Pct.Comp$"
   ]
  },
  {
   "cell_type": "code",
   "execution_count": 2,
   "metadata": {},
   "outputs": [],
   "source": [
    "intercept <- rep(1,each = 32) #took 32 as the no of rows in dataframe is 32\n",
    "d$intercept <- intercept"
   ]
  },
  {
   "cell_type": "code",
   "execution_count": 3,
   "metadata": {},
   "outputs": [
    {
     "data": {
      "text/html": [
       "<table>\n",
       "<tbody>\n",
       "\t<tr><td>-22.033064</td></tr>\n",
       "\t<tr><td>  1.745626</td></tr>\n",
       "</tbody>\n",
       "</table>\n"
      ],
      "text/latex": [
       "\\begin{tabular}{l}\n",
       "\t -22.033064\\\\\n",
       "\t   1.745626\\\\\n",
       "\\end{tabular}\n"
      ],
      "text/markdown": [
       "\n",
       "| -22.033064 |\n",
       "|   1.745626 |\n",
       "\n"
      ],
      "text/plain": [
       "     [,1]      \n",
       "[1,] -22.033064\n",
       "[2,]   1.745626"
      ]
     },
     "metadata": {},
     "output_type": "display_data"
    }
   ],
   "source": [
    "library(MASS)\n",
    "X <- cbind(d$intercept,d$Pct.Comp) #colomn binding intercept and independent column\n",
    "y <- d$Rating.Pts\n",
    "beta <- ginv(X)%*% y  #matrix multipication/ dot product\n",
    "beta"
   ]
  },
  {
   "cell_type": "markdown",
   "metadata": {},
   "source": [
    "Least Square model to relate the dependent variable quarterback rating to the percentage of\n",
    "completions is: \n",
    "\n",
    "$$Rating.Pts = -22.033064 + 1.745626Pct.Comp$$"
   ]
  },
  {
   "cell_type": "markdown",
   "metadata": {},
   "source": [
    "## Multiple Linear Regression from Scratch R"
   ]
  },
  {
   "cell_type": "markdown",
   "metadata": {},
   "source": [
    "\n",
    "### <span style=\"color: navy \">Objective: Create a Least Square model to relate the dependent variable quarterback rating to the percentage of Completions (Pct Comp) and interceptions. (Pct Int)</span>"
   ]
  },
  {
   "cell_type": "markdown",
   "metadata": {},
   "source": [
    "_**Assumption**: we are considering only pct Comp and pct Int as independent variables only for experimental purpose, there is no real relation between dependent and independent variable_"
   ]
  },
  {
   "cell_type": "markdown",
   "metadata": {},
   "source": [
    "General Multiple Linear Equation is: $y = \\beta_0 +\\beta_1x_1 + \\beta_2x_2$\n",
    "\n",
    "Linear Equation to predict Rating.Pts is: $Rating.Pts = \\beta_0 +\\beta_1Pct.Comp + \\beta_2Pct.Int$"
   ]
  },
  {
   "cell_type": "code",
   "execution_count": 4,
   "metadata": {},
   "outputs": [
    {
     "data": {
      "text/html": [
       "<table>\n",
       "<tbody>\n",
       "\t<tr><td>-9.109043</td></tr>\n",
       "\t<tr><td> 1.662173</td></tr>\n",
       "\t<tr><td>-3.076368</td></tr>\n",
       "</tbody>\n",
       "</table>\n"
      ],
      "text/latex": [
       "\\begin{tabular}{l}\n",
       "\t -9.109043\\\\\n",
       "\t  1.662173\\\\\n",
       "\t -3.076368\\\\\n",
       "\\end{tabular}\n"
      ],
      "text/markdown": [
       "\n",
       "| -9.109043 |\n",
       "|  1.662173 |\n",
       "| -3.076368 |\n",
       "\n"
      ],
      "text/plain": [
       "     [,1]     \n",
       "[1,] -9.109043\n",
       "[2,]  1.662173\n",
       "[3,] -3.076368"
      ]
     },
     "metadata": {},
     "output_type": "display_data"
    }
   ],
   "source": [
    "X1 <- cbind(d$intercept,d$Pct.Comp,d$Pct.Int)\n",
    "y1 <- d$Rating.Pts\n",
    "beta1 <- ginv(X1)%*% y1\n",
    "beta1"
   ]
  },
  {
   "cell_type": "markdown",
   "metadata": {},
   "source": [
    "Least Square model to relate the dependent variable quarterback rating to the percentage of\n",
    "Completions (Pct Comp) and interceptions is:  \n",
    "\n",
    "$$Rating.Pts = -9.109043 + 1.662173Pct.Comp - 3.076368Pct.Int $$"
   ]
  },
  {
   "cell_type": "markdown",
   "metadata": {},
   "source": [
    "### <span style=\"color: navy \">Objective: Determine the least square error (square root of sum of square errors) for models in part a and b.</span>"
   ]
  },
  {
   "cell_type": "markdown",
   "metadata": {},
   "source": [
    "Least Square error for the model 1(part a) is: "
   ]
  },
  {
   "cell_type": "code",
   "execution_count": 5,
   "metadata": {},
   "outputs": [
    {
     "data": {
      "text/html": [
       "29.5818858464848"
      ],
      "text/latex": [
       "29.5818858464848"
      ],
      "text/markdown": [
       "29.5818858464848"
      ],
      "text/plain": [
       "[1] 29.58189"
      ]
     },
     "metadata": {},
     "output_type": "display_data"
    }
   ],
   "source": [
    "err = norm(X %*% beta - y,'2')\n",
    "err"
   ]
  },
  {
   "cell_type": "markdown",
   "metadata": {},
   "source": [
    "Least Square error for the model 2(part b) is:"
   ]
  },
  {
   "cell_type": "code",
   "execution_count": 6,
   "metadata": {},
   "outputs": [
    {
     "data": {
      "text/html": [
       "26.5811744686636"
      ],
      "text/latex": [
       "26.5811744686636"
      ],
      "text/markdown": [
       "26.5811744686636"
      ],
      "text/plain": [
       "[1] 26.58117"
      ]
     },
     "metadata": {},
     "output_type": "display_data"
    }
   ],
   "source": [
    "err1 = norm(X1 %*% beta1 - y1,'2')\n",
    "err1"
   ]
  },
  {
   "cell_type": "markdown",
   "metadata": {},
   "source": [
    "The least square error reduced from 29.58 to 26.58. Hence, we can conclude that the accuracy of the model increased by using an extra variable, namely percentage of interceptions."
   ]
  },
  {
   "cell_type": "markdown",
   "metadata": {},
   "source": [
    "### <span style=\"color: navy \">Objective: Use your LR and MLR models to predict the rating for a quarterback with percentage of completions of 60%, and percentage of interceptions of 3%.</span>\n"
   ]
  },
  {
   "cell_type": "code",
   "execution_count": 7,
   "metadata": {},
   "outputs": [
    {
     "data": {
      "text/html": [
       "<table>\n",
       "<tbody>\n",
       "\t<tr><td>82.70451</td></tr>\n",
       "</tbody>\n",
       "</table>\n"
      ],
      "text/latex": [
       "\\begin{tabular}{l}\n",
       "\t 82.70451\\\\\n",
       "\\end{tabular}\n"
      ],
      "text/markdown": [
       "\n",
       "| 82.70451 |\n",
       "\n"
      ],
      "text/plain": [
       "     [,1]    \n",
       "[1,] 82.70451"
      ]
     },
     "metadata": {},
     "output_type": "display_data"
    }
   ],
   "source": [
    "y_hat = c(1,60) %*% beta\n",
    "y_hat"
   ]
  },
  {
   "cell_type": "markdown",
   "metadata": {},
   "source": [
    "The rating for a quarterback with percentage of completions of 60% is ***82.70451</span>***."
   ]
  },
  {
   "cell_type": "code",
   "execution_count": 8,
   "metadata": {},
   "outputs": [
    {
     "data": {
      "text/html": [
       "<table>\n",
       "<tbody>\n",
       "\t<tr><td>81.39223</td></tr>\n",
       "</tbody>\n",
       "</table>\n"
      ],
      "text/latex": [
       "\\begin{tabular}{l}\n",
       "\t 81.39223\\\\\n",
       "\\end{tabular}\n"
      ],
      "text/markdown": [
       "\n",
       "| 81.39223 |\n",
       "\n"
      ],
      "text/plain": [
       "     [,1]    \n",
       "[1,] 81.39223"
      ]
     },
     "metadata": {},
     "output_type": "display_data"
    }
   ],
   "source": [
    "y_hat1 = c(1,60,3) %*% beta1\n",
    "y_hat1"
   ]
  },
  {
   "cell_type": "markdown",
   "metadata": {},
   "source": [
    "The rating for a quarterback with percentage of completions\n",
    "of 60%, and percentage of interceptions of 3% is ***81.39223</span>***."
   ]
  },
  {
   "cell_type": "markdown",
   "metadata": {},
   "source": [
    "#### <span style=\"color: navy \">Go Seahawks!</span>"
   ]
  }
 ],
 "metadata": {
  "kernelspec": {
   "display_name": "R",
   "language": "R",
   "name": "ir"
  },
  "language_info": {
   "codemirror_mode": "r",
   "file_extension": ".r",
   "mimetype": "text/x-r-source",
   "name": "R",
   "pygments_lexer": "r",
   "version": "3.6.1"
  }
 },
 "nbformat": 4,
 "nbformat_minor": 4
}
